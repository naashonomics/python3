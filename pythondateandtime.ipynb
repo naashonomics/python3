{
 "cells": [
  {
   "cell_type": "code",
   "execution_count": 2,
   "metadata": {},
   "outputs": [
    {
     "name": "stdout",
     "output_type": "stream",
     "text": [
      "Hello World\n"
     ]
    }
   ],
   "source": [
    "print (\"Hello World\")"
   ]
  },
  {
   "cell_type": "code",
   "execution_count": 4,
   "metadata": {},
   "outputs": [
    {
     "name": "stdout",
     "output_type": "stream",
     "text": [
      "hello world\n",
      "me too\n"
     ]
    }
   ],
   "source": [
    "def main():\n",
    "    print (\"hello world\")\n",
    "\n",
    "if __name__==\"__main__\":\n",
    "    main()\n",
    "\n",
    "print (\"me too\")"
   ]
  },
  {
   "cell_type": "code",
   "execution_count": 14,
   "metadata": {},
   "outputs": [
    {
     "name": "stdout",
     "output_type": "stream",
     "text": [
      "0\n",
      "abc\n",
      "string type123\n"
     ]
    }
   ],
   "source": [
    "f=0\n",
    "print (f)\n",
    "f=\"abc\"\n",
    "print (f)\n",
    "f=\"string type\"\n",
    "f1=123\n",
    "print(f + str(f1))"
   ]
  },
  {
   "cell_type": "code",
   "execution_count": 21,
   "metadata": {},
   "outputs": [
    {
     "name": "stdout",
     "output_type": "stream",
     "text": [
      "x is less than y\n",
      "x is less than y\n"
     ]
    }
   ],
   "source": [
    "def main():\n",
    "    x,y=100,200\n",
    "    if (x<y):\n",
    "        st=\"x is less than y\"\n",
    "    elif (x==y):\n",
    "        st=\"x is equal to y\"    \n",
    "    else:\n",
    "        st=\"x is greater than y\"\n",
    "    print(st)\n",
    "    \n",
    "    st =\"x is less than y\" if (x<y) else \" x is greater than y\"\n",
    "    print (st)\n",
    "if __name__==\"__main__\":\n",
    "    main()\n",
    "\n"
   ]
  },
  {
   "cell_type": "code",
   "execution_count": 24,
   "metadata": {},
   "outputs": [
    {
     "name": "stdout",
     "output_type": "stream",
     "text": [
      "monday\n",
      "tuesday\n",
      "wednesday\n"
     ]
    }
   ],
   "source": [
    "days=[\"monday\",\"tuesday\",\"wednesday\"]\n",
    "for d in days:\n",
    "    print(d)"
   ]
  },
  {
   "cell_type": "code",
   "execution_count": 25,
   "metadata": {},
   "outputs": [
    {
     "name": "stdout",
     "output_type": "stream",
     "text": [
      "0 monday\n",
      "1 tuesday\n",
      "2 wednesday\n"
     ]
    }
   ],
   "source": [
    "days=[\"monday\",\"tuesday\",\"wednesday\"]\n",
    "for i,d in enumerate(days):\n",
    "    print(i,d)"
   ]
  },
  {
   "cell_type": "code",
   "execution_count": 29,
   "metadata": {},
   "outputs": [
    {
     "name": "stdout",
     "output_type": "stream",
     "text": [
      "my Class method1\n",
      "my Class method2: i am a idiot\n"
     ]
    }
   ],
   "source": [
    "class myClass():\n",
    "    def method1(self):\n",
    "        print(\"my Class method1\")\n",
    "    def method2(self, somestring):\n",
    "        print(\"my Class method2:\" + somestring )\n",
    "        \n",
    "def main():\n",
    "    c=myClass()\n",
    "    c.method1()\n",
    "    c.method2(\" i am a idiot\")\n",
    "    \n",
    "if __name__==\"__main__\":\n",
    "    main()\n"
   ]
  },
  {
   "cell_type": "code",
   "execution_count": 37,
   "metadata": {},
   "outputs": [
    {
     "name": "stdout",
     "output_type": "stream",
     "text": [
      "Todays date is  2017-10-09\n",
      "date components 9 10 2017\n",
      "Todays Weekdaynumber is 0\n",
      "2017-10-09 09:08:01.235611\n",
      "09:08:01.235611\n"
     ]
    }
   ],
   "source": [
    "from datetime import date\n",
    "from datetime import time\n",
    "from datetime import datetime\n",
    "\n",
    "def main():\n",
    "    today=date.today()\n",
    "    print (\"Todays date is \" , today)\n",
    "\n",
    "    print (\"date components\", today.day, today.month,today.year)\n",
    "    print(\"Todays Weekdaynumber is\", today.weekday())\n",
    "    \n",
    "    today1=datetime.now()\n",
    "    print(today1)\n",
    "    t=datetime.time(datetime.now())\n",
    "    print(t)\n",
    "if __name__==\"__main__\":\n",
    "    main()\n",
    "\n"
   ]
  },
  {
   "cell_type": "code",
   "execution_count": 44,
   "metadata": {},
   "outputs": [
    {
     "name": "stdout",
     "output_type": "stream",
     "text": [
      "2017\n",
      "Mon,09 October 17\n",
      "Mon Oct  9 09:15:38 2017\n",
      "10/09/17\n",
      "09:15:38\n",
      "09:15:38:15:38 AM\n",
      "09:15\n"
     ]
    }
   ],
   "source": [
    "from datetime import datetime\n",
    "\n",
    "def main():\n",
    "    now=datetime.now()\n",
    "    print(now.strftime(\"%Y\")) #full year with centuy\n",
    "    print(now.strftime(\"%a,%d %B %y\")) #full year with centuy\n",
    "    print(now.strftime(\"%c\"))  #date and time\n",
    "    print(now.strftime(\"%x\"))  #locale date\n",
    "    print(now.strftime(\"%X\"))  #locale time\n",
    "    print(now.strftime(\"%T:%M:%S %p\"))  #12-Hr:Min:Sec:AM\n",
    "    print(now.strftime(\"%H:%M\"))  #24 hr and min\n",
    "if __name__==\"__main__\":\n",
    "    main()\n",
    "\n"
   ]
  },
  {
   "cell_type": "code",
   "execution_count": 49,
   "metadata": {},
   "outputs": [
    {
     "name": "stdout",
     "output_type": "stream",
     "text": [
      "365 days, 5:01:00\n",
      "today is 2017-10-09 09:20:39.142922\n",
      "One year from now it will be 2018-10-09 09:20:39.143909\n"
     ]
    }
   ],
   "source": [
    "from datetime import date\n",
    "from datetime import time\n",
    "from datetime import datetime\n",
    "from datetime import timedelta \n",
    "\n",
    "print (timedelta(days=365,hours=5,minutes=1))\n",
    "print(\"today is \" + str(datetime.now()))\n",
    "print (\"One year from now it will be \" + str(datetime.now() + timedelta(days=365) ))"
   ]
  },
  {
   "cell_type": "code",
   "execution_count": 50,
   "metadata": {},
   "outputs": [
    {
     "name": "stdout",
     "output_type": "stream",
     "text": [
      "AFD already went by 191 days ago\n",
      "174 days until next april fools days!\n"
     ]
    }
   ],
   "source": [
    "from datetime import datetime\n",
    "from datetime import timedelta \n",
    "#todays date\n",
    "today=date.today()\n",
    "#get afd for same year\n",
    "afd=date(today.year,4,1)\n",
    "#check afd has already passed \n",
    "if afd <today:\n",
    "    print(\"AFD already went by %d days ago\" %(today-afd).days)\n",
    "    #if so get date for next year\n",
    "    afd=afd.replace(year=today.year+1)\n",
    "#calucate Time till AFD\n",
    "time_to_afd=abs(afd-today)\n",
    "print(time_to_afd.days, \"days until next april fools days!\")"
   ]
  },
  {
   "cell_type": "code",
   "execution_count": null,
   "metadata": {
    "collapsed": true
   },
   "outputs": [],
   "source": []
  }
 ],
 "metadata": {
  "kernelspec": {
   "display_name": "Python 3",
   "language": "python",
   "name": "python3"
  },
  "language_info": {
   "codemirror_mode": {
    "name": "ipython",
    "version": 3
   },
   "file_extension": ".py",
   "mimetype": "text/x-python",
   "name": "python",
   "nbconvert_exporter": "python",
   "pygments_lexer": "ipython3",
   "version": "3.5.4"
  }
 },
 "nbformat": 4,
 "nbformat_minor": 2
}
