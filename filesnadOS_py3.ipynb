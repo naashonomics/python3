{
 "cells": [
  {
   "cell_type": "code",
   "execution_count": 7,
   "metadata": {},
   "outputs": [],
   "source": [
    "def main():\n",
    "    f=open(\"textfile.txt\",\"w+\")\n",
    "    \n",
    "    for i in range(10):\n",
    "        f.write(\"This is line %d\\r\\n\" %(i+1))\n",
    "    f.close()\n",
    "if __name__==\"__main__\":\n",
    "    main()\n",
    "    "
   ]
  },
  {
   "cell_type": "code",
   "execution_count": 8,
   "metadata": {
    "scrolled": true
   },
   "outputs": [
    {
     "name": "stdout",
     "output_type": "stream",
     "text": [
      "This is line 1\n",
      "\n",
      "This is line 2\n",
      "\n",
      "This is line 3\n",
      "\n",
      "This is line 4\n",
      "\n",
      "This is line 5\n",
      "\n",
      "This is line 6\n",
      "\n",
      "This is line 7\n",
      "\n",
      "This is line 8\n",
      "\n",
      "This is line 9\n",
      "\n",
      "This is line 10\n",
      "\n",
      "\n"
     ]
    }
   ],
   "source": [
    "def main():\n",
    "    f=open(\"textfile.txt\",\"r\")\n",
    "    \n",
    "    if f.mode==\"r\":\n",
    "        contents=f.read()\n",
    "        print (contents)\n",
    "    f.close()\n",
    "if __name__==\"__main__\":\n",
    "    main()"
   ]
  },
  {
   "cell_type": "code",
   "execution_count": 25,
   "metadata": {},
   "outputs": [
    {
     "name": "stdout",
     "output_type": "stream",
     "text": [
      "This is line 1\n",
      "\r\n",
      "\n",
      "\r\n",
      "This is line 2\n",
      "\r\n",
      "\n",
      "\r\n",
      "This is line 3\n",
      "\r\n",
      "\n",
      "\r\n",
      "This is line 4\n",
      "\r\n",
      "\n",
      "\r\n",
      "This is line 5\n",
      "\r\n",
      "\n",
      "\r\n",
      "This is line 6\n",
      "\r\n",
      "\n",
      "\r\n",
      "This is line 7\n",
      "\r\n",
      "\n",
      "\r\n",
      "This is line 8\n",
      "\r\n",
      "\n",
      "\r\n",
      "This is line 9\n",
      "\r\n",
      "\n",
      "\r\n",
      "This is line 10\n",
      "\r\n",
      "\n",
      "\r\n"
     ]
    }
   ],
   "source": [
    "def main():\n",
    "    f=open(\"textfile.txt\",\"r\")\n",
    "    \n",
    "    if f.mode==\"r\":\n",
    "        contents=f.readlines()\n",
    "        #read line by line\n",
    "        for x in  contents:\n",
    "            print (x)\n",
    "    f.close()\n",
    "if __name__==\"__main__\":\n",
    "    main()"
   ]
  },
  {
   "cell_type": "code",
   "execution_count": 22,
   "metadata": {},
   "outputs": [
    {
     "name": "stdout",
     "output_type": "stream",
     "text": [
      "nt\n",
      "Item existsTrue\n",
      "Item is a fileTrue\n",
      "Item is a DirFalse\n",
      "Item's path: C:\\Users\\avin\\Untitled Folder 1\\textfile.txt\n",
      "Item's path and name: ('C:\\\\Users\\\\avin\\\\Untitled Folder 1', 'textfile.txt')\n"
     ]
    }
   ],
   "source": [
    "import os\n",
    "from os import path\n",
    "def main():\n",
    "    print(os.name)\n",
    "    print(\"Item exists\" + str(path.exists(\"textfile.txt\")))\n",
    "    print(\"Item is a file\" + str(path.isfile(\"textfile.txt\")))\n",
    "    print(\"Item is a Dir\" + str(path.isdir(\"textfile.txt\")))\n",
    "    print (\"Item's path: \" + str(path.realpath(\"textfile.txt\")))\n",
    "    print (\"Item's path and name: \" + str(path.split(path.realpath(\"textfile.txt\"))))\n",
    "if __name__==\"__main__\":\n",
    "    main()"
   ]
  },
  {
   "cell_type": "code",
   "execution_count": 26,
   "metadata": {},
   "outputs": [
    {
     "name": "stdout",
     "output_type": "stream",
     "text": [
      "It has been 0:41:26.174234The file was modified\n",
      "Or, 2486.174234 seconds\n"
     ]
    }
   ],
   "source": [
    "import os\n",
    "from os import path\n",
    "import datetime\n",
    "from datetime import date, time, timedelta\n",
    "import time\n",
    "\n",
    "td= datetime.datetime.now() - datetime.datetime.fromtimestamp(path.getmtime(\"textfile.txt\"))\n",
    "print (\"It has been \" + str(td) + \"The file was modified\")\n",
    "print (\"Or, \" + str(td.total_seconds()) + \" seconds\")\n",
    "  "
   ]
  },
  {
   "cell_type": "code",
   "execution_count": 29,
   "metadata": {},
   "outputs": [
    {
     "name": "stdout",
     "output_type": "stream",
     "text": [
      "path: C:\\Users\\avin\\Untitled Folder 1\n",
      "file: textfile.txt\n"
     ]
    }
   ],
   "source": [
    "#create duplicate file \n",
    "import os\n",
    "import shutil\n",
    "from zipfile import ZipFile\n",
    "from os import path\n",
    "from shutil import make_archive\n",
    "\n",
    "def main():\n",
    "  # make a duplicate of an existing file\n",
    "  if path.exists(\"textfile.txt\"):\n",
    "    # get the path to the file in the current directory\n",
    "    src = path.realpath(\"textfile.txt\");\n",
    "    \n",
    "    # separate the path part from the filename\n",
    "    head, tail = path.split(src)\n",
    "    print (\"path: \" +head)\n",
    "    print (\"file: \" +tail)\n",
    "    \n",
    "    # let's make a backup copy by appending \"bak\" to the name\n",
    "    dst = src + \".bak\"\n",
    "    # now use the shell to make a copy of the file\n",
    "    shutil.copy(src,dst)\n",
    "    \n",
    "    # copy over the permissions, modification times, and other info\n",
    "    shutil.copystat(src, dst)\n",
    "    \n",
    "    # rename the original file\n",
    "    os.rename(\"textfile.txt\", \"newfile.txt\")\n",
    "    \n",
    "    # now put things into a ZIP archive\n",
    "    # root_dir,tail = path.split(src)\n",
    "    # shutil.make_archive(\"archive\", \"zip\", root_dir)\n",
    "\n",
    "    # more fine-grained control over ZIP files\n",
    "    with ZipFile(\"testzip.zip\",\"w\") as newzip:\n",
    "      newzip.write(\"newfile.txt\")\n",
    "      newzip.write(\"textfile.txt.bak\")\n",
    "      \n",
    "if __name__ == \"__main__\":\n",
    "  main()\n",
    "\n"
   ]
  },
  {
   "cell_type": "code",
   "execution_count": null,
   "metadata": {
    "collapsed": true
   },
   "outputs": [],
   "source": []
  }
 ],
 "metadata": {
  "kernelspec": {
   "display_name": "Python 3",
   "language": "python",
   "name": "python3"
  },
  "language_info": {
   "codemirror_mode": {
    "name": "ipython",
    "version": 3
   },
   "file_extension": ".py",
   "mimetype": "text/x-python",
   "name": "python",
   "nbconvert_exporter": "python",
   "pygments_lexer": "ipython3",
   "version": "3.5.4"
  }
 },
 "nbformat": 4,
 "nbformat_minor": 2
}
